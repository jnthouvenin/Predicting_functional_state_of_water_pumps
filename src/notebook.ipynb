{
 "cells": [
  {
   "cell_type": "markdown",
   "metadata": {},
   "source": [
    "# INFO-F-422 -  Statistical Foundations of Machine Learning \n",
    "\n",
    ">### Student 1 - __[jules.nicolas-thouvenin@ulb.be](mailto:jules.nicolas-thouvenin@ulb.be) - Student ID 000528423__ / Driven Data Id : JulesNT\n",
    ">### Student 2 - __[lucas.baussay@ulb.be](mailto:lucas.baussay@ulb.be) - Student ID 000528422__ / Driven Data Id : LucasBaussay\n",
    ">### Student 3 - __[mathilde.havard-sedeno@ulb.be](mailto:mathilde.havard-sedeno@ulb.be) - Student ID 000528421__ / Driven Data Id : mhavardsedeno\n",
    "\n",
    ">### Driven Data team : The French Dowsers\n",
    "\n",
    "## Pump it Up : Data Mining the Water Table"
   ]
  },
  {
   "cell_type": "code",
   "execution_count": 2,
   "metadata": {},
   "outputs": [],
   "source": [
    "library(tidyverse)\n",
    "library(greybox)\n",
    "library(rpart)\n",
    "library(randomForest)\n",
    "library(ramify)\n",
    "library(nnet)\n",
    "library(devtools)\n",
    "library(dummies)\n",
    "library(ggplot2)\n",
    "library(dplyr)\n",
    "library(caret)\n",
    "library(xgboost)"
   ]
  },
  {
   "cell_type": "markdown",
   "metadata": {},
   "source": [
    "## Generic tools for the execution"
   ]
  },
  {
   "cell_type": "code",
   "execution_count": 3,
   "metadata": {},
   "outputs": [],
   "source": [
    "showMissingValues <- function(data,categorical_names) {\n",
    "    missingVec = c()\n",
    "    ratioVec = c()\n",
    "    names = c()\n",
    "    for (name in categorical_names) {\n",
    "        nbMissingValues = sum(data[,name]==\"\")\n",
    "        ratio = nbMissingValues/nrow(data)*100\n",
    "        tryCatch(\n",
    "            expr = {\n",
    "                if (nbMissingValues > 0) {\n",
    "                    missingVec = c(missingVec,nbMissingValues)\n",
    "                    ratioVec = c(ratioVec,ratio)\n",
    "                    names = c(names,name)\n",
    "                }\n",
    "            },\n",
    "            error = function(e){},\n",
    "            warning = function(w){},\n",
    "            finally = {}\n",
    "        )\n",
    "    }\n",
    "    table.results <- data.frame(feature=names,missing.values=missingVec,percentage.missing=ratioVec)\n",
    "    return (table.results)\n",
    "}\n",
    "\n",
    "cramerAssociation <- function(data,categorical_names,threshold) {\n",
    "    options(warn=-1)\n",
    "    result = c()\n",
    "    names = c()\n",
    "    for (name in categorical_names) {\n",
    "        cramer_value <- cramer(data[,name],data[,\"status_group\"])$value\n",
    "        if (cramer_value < threshold){\n",
    "            result = c(result,toString(cramer(data[,name],data[,\"status_group\"])$value))\n",
    "            names = c(names,name)\n",
    "        }\n",
    "    }\n",
    "    options(warn=0)\n",
    "    table.results <- data.frame(features = names, association.statusgroup = result)\n",
    "    return(table.results)\n",
    "}\n",
    "\n",
    "crossTableAssociation <- function(data,categorical_names,treshold){\n",
    "    for(i in 1:length(categorical_names)) {\n",
    "        var_name_1 = categorical_names[i]\n",
    "        if (i < length(categorical_names)) {\n",
    "            for(j in (i+1):length(categorical_names)) {\n",
    "                var_name_2 = categorical_names[j]\n",
    "                value <- cramer(data[,var_name_1],data[,var_name_2])$value\n",
    "                if (value > treshold) {\n",
    "                    cat(paste(\"[\",var_name_1,\"] is associated with [\",var_name_2,\"] -> \",value,\"\\n\"))\n",
    "                }\n",
    "            }\n",
    "        }\n",
    "    }\n",
    "}"
   ]
  },
  {
   "cell_type": "markdown",
   "metadata": {},
   "source": [
    "# Predicting functional state of water-pumps in Tanzania \n",
    "\n",
    "> Tanzania has been in a water crisis for several years now. Even though the country partly includes three of the Great African Lakes, a third of Tanzania is arid desert. According to the most recent survey, almost half of the population doesn’t have access to safe water. This leads to several problem, not only about health and hygiene. Since women and children have to walk longer to collect water, it also impacts the access to education, the economic status and the happiness in the country.\n",
    "\n",
    "> One of the answer to this crisis is the installation of water pump all across the country. Plenty of data about it is available in a large database. In order to acknowledge the status of theses water-pumps, a survey was conducted by the ministry of water. This resulted in the classification of the pumps in three categories : functional, requires repair work and not functional.\n",
    "\n",
    "> Our goal today is to analyze the dataset provided and use prediction models in order to predict the state of the water-pumps. If we are able to correctly predict the state of the water-pump, this could save precious time and money to the government. "
   ]
  },
  {
   "cell_type": "markdown",
   "metadata": {},
   "source": [
    "# Loading and exploring the data\n",
    "\n",
    ">The features of the dataset are documented on the page of the competition : [Features description](https://www.drivendata.org/competitions/7/pump-it-up-data-mining-the-water-table/page/25/)"
   ]
  },
  {
   "cell_type": "code",
   "execution_count": 4,
   "metadata": {},
   "outputs": [],
   "source": [
    "train <- read.csv(\"../data/TrainingSetValues.csv\")\n",
    "trainLabels <- read.csv(\"../data/TrainingSetLabels.csv\")\n",
    "test <- read.csv(\"../data/TestSetValues.csv\")"
   ]
  },
  {
   "cell_type": "markdown",
   "metadata": {},
   "source": [
    "## Dimensions of the dataset"
   ]
  },
  {
   "cell_type": "code",
   "execution_count": 5,
   "metadata": {},
   "outputs": [
    {
     "data": {
      "text/html": [
       "<style>\n",
       ".list-inline {list-style: none; margin:0; padding: 0}\n",
       ".list-inline>li {display: inline-block}\n",
       ".list-inline>li:not(:last-child)::after {content: \"\\00b7\"; padding: 0 .5ex}\n",
       "</style>\n",
       "<ol class=list-inline><li>59400</li><li>40</li></ol>\n"
      ],
      "text/latex": [
       "\\begin{enumerate*}\n",
       "\\item 59400\n",
       "\\item 40\n",
       "\\end{enumerate*}\n"
      ],
      "text/markdown": [
       "1. 59400\n",
       "2. 40\n",
       "\n",
       "\n"
      ],
      "text/plain": [
       "[1] 59400    40"
      ]
     },
     "metadata": {},
     "output_type": "display_data"
    },
    {
     "data": {
      "text/html": [
       "<style>\n",
       ".list-inline {list-style: none; margin:0; padding: 0}\n",
       ".list-inline>li {display: inline-block}\n",
       ".list-inline>li:not(:last-child)::after {content: \"\\00b7\"; padding: 0 .5ex}\n",
       "</style>\n",
       "<ol class=list-inline><li>14850</li><li>40</li></ol>\n"
      ],
      "text/latex": [
       "\\begin{enumerate*}\n",
       "\\item 14850\n",
       "\\item 40\n",
       "\\end{enumerate*}\n"
      ],
      "text/markdown": [
       "1. 14850\n",
       "2. 40\n",
       "\n",
       "\n"
      ],
      "text/plain": [
       "[1] 14850    40"
      ]
     },
     "metadata": {},
     "output_type": "display_data"
    }
   ],
   "source": [
    "dim(train)\n",
    "dim(test)"
   ]
  },
  {
   "cell_type": "markdown",
   "metadata": {},
   "source": [
    "## Structure of the dataset\n",
    "\n",
    "### Quick look at the features values\n",
    "\n",
    ">We can see a lot more categorical features than numeric ones."
   ]
  },
  {
   "cell_type": "code",
   "execution_count": 6,
   "metadata": {},
   "outputs": [],
   "source": [
    "#head(train)"
   ]
  },
  {
   "cell_type": "markdown",
   "metadata": {},
   "source": [
    "### Distribution of the target feature\n",
    "\n",
    "> We observe here a strong inbalance between the different outputs."
   ]
  },
  {
   "cell_type": "code",
   "execution_count": 7,
   "metadata": {},
   "outputs": [
    {
     "data": {
      "text/plain": [
       "\n",
       "             functional functional needs repair          non functional \n",
       "                  32259                    4317                   22824 "
      ]
     },
     "metadata": {},
     "output_type": "display_data"
    },
    {
     "data": {
      "image/png": "[encoded data removed]",
      "text/plain": [
       "plot without title"
      ]
     },
     "metadata": {
      "image/png": {
       "height": 420,
       "width": 420
      }
     },
     "output_type": "display_data"
    }
   ],
   "source": [
    "table(trainLabels$status_group)\n",
    "plot(trainLabels$status_group)"
   ]
  },
  {
   "cell_type": "markdown",
   "metadata": {},
   "source": [
    "### Types of the features and number of factors\n",
    "\n",
    ">The use of the function str() shows that :\n",
    ">- most features are categorical features and some of them have a huge number of factors.\n",
    ">- some groups of features apparently describe the same information (e.g. region and region_code)"
   ]
  },
  {
   "cell_type": "code",
   "execution_count": 8,
   "metadata": {},
   "outputs": [],
   "source": [
    "#str(train)"
   ]
  },
  {
   "cell_type": "code",
   "execution_count": 9,
   "metadata": {},
   "outputs": [],
   "source": [
    "#summary(train)"
   ]
  },
  {
   "cell_type": "markdown",
   "metadata": {},
   "source": [
    "# Data preprocessing\n",
    "\n",
    ">#### Main objective : maintain a good accuracy while reducing computation time and overfitting\n",
    ">- Remove features and factors that don't bring new information to the model\n",
    ">- Add more relevent features\n",
    "\n",
    ">#### Here are the main parts of the preprocessing pipeline :\n",
    ">- Combining the training set and the test set\n",
    ">- Handling missing values\n",
    ">- Reducing levels of categorical features\n",
    ">- Format dates\n",
    ">- Remove obviously useless features\n",
    ">- Remove features little associated with target value\n",
    ">- Identify similar features and choose only one per group"
   ]
  },
  {
   "cell_type": "markdown",
   "metadata": {},
   "source": [
    "## Combining the training set and the test set\n",
    "\n",
    ">This way the training and test set have the same factors and we don't encounter problems when predicting the test labels with the model. If we don't combine the two sets and the test set contains new factors, the model won't be able to predict anything."
   ]
  },
  {
   "cell_type": "code",
   "execution_count": 10,
   "metadata": {},
   "outputs": [
    {
     "data": {
      "text/html": [
       "<style>\n",
       ".list-inline {list-style: none; margin:0; padding: 0}\n",
       ".list-inline>li {display: inline-block}\n",
       ".list-inline>li:not(:last-child)::after {content: \"\\00b7\"; padding: 0 .5ex}\n",
       "</style>\n",
       "<ol class=list-inline><li>74250</li><li>40</li></ol>\n"
      ],
      "text/latex": [
       "\\begin{enumerate*}\n",
       "\\item 74250\n",
       "\\item 40\n",
       "\\end{enumerate*}\n"
      ],
      "text/markdown": [
       "1. 74250\n",
       "2. 40\n",
       "\n",
       "\n"
      ],
      "text/plain": [
       "[1] 74250    40"
      ]
     },
     "metadata": {},
     "output_type": "display_data"
    }
   ],
   "source": [
    "dataSet <- rbind(train,test)\n",
    "\n",
    "dim(dataSet)"
   ]
  },
  {
   "cell_type": "markdown",
   "metadata": {},
   "source": [
    ">The following will help targeting a certain type of feature"
   ]
  },
  {
   "cell_type": "code",
   "execution_count": 11,
   "metadata": {
    "scrolled": true
   },
   "outputs": [],
   "source": [
    "categorical_columns <- c(3,4,6,9,11,12,13,16,17,19,20,21,22,23,c(25:ncol(dataSet)))\n",
    "categorical_names <- names(dataSet)[categorical_columns]\n",
    "missing_values_alias <- c(\"none\",\"None\",\"No\",\"no\",\"0\",\"Unknown\",\n",
    "                          \"unknown\",\"Not known\",\"Not Known\",\"not known\",\n",
    "                          \"missing\",\"Missing\")"
   ]
  },
  {
   "cell_type": "markdown",
   "metadata": {},
   "source": [
    "## Handling missing values\n",
    "\n",
    "### Harmonize the dataset\n",
    "\n",
    ">First we replace alias of missing values (e.g. none, no, unknown) by the value \"\" to harmonize the dataSet. Indeed, in the feature \"funder\" a NA was initially described by the values \"\", \"none\", \"Unknown\", \"0\", \"Not Known\" and \"No\". It's thus important to only have one specific value across all the dataset."
   ]
  },
  {
   "cell_type": "code",
   "execution_count": 12,
   "metadata": {},
   "outputs": [],
   "source": [
    "for (var in categorical_columns[categorical_columns!=9 & categorical_columns!=38 & (categorical_columns < 28 | categorical_columns > 36)]) {\n",
    "    for (alias in missing_values_alias) {\n",
    "        dataSet[var][dataSet[var]==alias] <- \"\"\n",
    "    }\n",
    "}\n",
    "dataSet <- droplevels(dataSet)"
   ]
  },
  {
   "cell_type": "markdown",
   "metadata": {},
   "source": [
    "### Proportion of missing values\n",
    "\n",
    "> In this section we compute the percentage of missing values for each feature that contains missing values."
   ]
  },
  {
   "cell_type": "code",
   "execution_count": 13,
   "metadata": {
    "scrolled": false
   },
   "outputs": [
    {
     "data": {
      "text/html": [
       "<table class=\"dataframe\">\n",
       "<caption>A data.frame: 7 × 3</caption>\n",
       "<thead>\n",
       "\t<tr><th></th><th scope=col>feature</th><th scope=col>missing.values</th><th scope=col>percentage.missing</th></tr>\n",
       "\t<tr><th></th><th scope=col>&lt;fct&gt;</th><th scope=col>&lt;int&gt;</th><th scope=col>&lt;dbl&gt;</th></tr>\n",
       "</thead>\n",
       "<tbody>\n",
       "\t<tr><th scope=row>6</th><td>scheme_name      </td><td>36098</td><td>48.6168350</td></tr>\n",
       "\t<tr><th scope=row>1</th><td>funder           </td><td> 5687</td><td> 7.6592593</td></tr>\n",
       "\t<tr><th scope=row>2</th><td>installer        </td><td> 5574</td><td> 7.5070707</td></tr>\n",
       "\t<tr><th scope=row>5</th><td>scheme_management</td><td> 4847</td><td> 6.5279461</td></tr>\n",
       "\t<tr><th scope=row>4</th><td>public_meeting   </td><td> 4155</td><td> 5.5959596</td></tr>\n",
       "\t<tr><th scope=row>7</th><td>permit           </td><td> 3793</td><td> 5.1084175</td></tr>\n",
       "\t<tr><th scope=row>3</th><td>subvillage       </td><td>  470</td><td> 0.6329966</td></tr>\n",
       "</tbody>\n",
       "</table>\n"
      ],
      "text/latex": [
       "A data.frame: 7 × 3\n",
       "\\begin{tabular}{r|lll}\n",
       "  & feature & missing.values & percentage.missing\\\\\n",
       "  & <fct> & <int> & <dbl>\\\\\n",
       "\\hline\n",
       "\t6 & scheme\\_name       & 36098 & 48.6168350\\\\\n",
       "\t1 & funder            &  5687 &  7.6592593\\\\\n",
       "\t2 & installer         &  5574 &  7.5070707\\\\\n",
       "\t5 & scheme\\_management &  4847 &  6.5279461\\\\\n",
       "\t4 & public\\_meeting    &  4155 &  5.5959596\\\\\n",
       "\t7 & permit            &  3793 &  5.1084175\\\\\n",
       "\t3 & subvillage        &   470 &  0.6329966\\\\\n",
       "\\end{tabular}\n"
      ],
      "text/markdown": [
       "\n",
       "A data.frame: 7 × 3\n",
       "\n",
       "| <!--/--> | feature &lt;fct&gt; | missing.values &lt;int&gt; | percentage.missing &lt;dbl&gt; |\n",
       "|---|---|---|---|\n",
       "| 6 | scheme_name       | 36098 | 48.6168350 |\n",
       "| 1 | funder            |  5687 |  7.6592593 |\n",
       "| 2 | installer         |  5574 |  7.5070707 |\n",
       "| 5 | scheme_management |  4847 |  6.5279461 |\n",
       "| 4 | public_meeting    |  4155 |  5.5959596 |\n",
       "| 7 | permit            |  3793 |  5.1084175 |\n",
       "| 3 | subvillage        |   470 |  0.6329966 |\n",
       "\n"
      ],
      "text/plain": [
       "  feature           missing.values percentage.missing\n",
       "6 scheme_name       36098          48.6168350        \n",
       "1 funder             5687           7.6592593        \n",
       "2 installer          5574           7.5070707        \n",
       "5 scheme_management  4847           6.5279461        \n",
       "4 public_meeting     4155           5.5959596        \n",
       "7 permit             3793           5.1084175        \n",
       "3 subvillage          470           0.6329966        "
      ]
     },
     "metadata": {},
     "output_type": "display_data"
    },
    {
     "data": {
      "image/png": "[encoded data removed]",
      "text/plain": [
       "plot without title"
      ]
     },
     "metadata": {
      "image/png": {
       "height": 420,
       "width": 420
      }
     },
     "output_type": "display_data"
    }
   ],
   "source": [
    "table.results <- showMissingValues(dataSet,categorical_names)\n",
    "sorted.results <- table.results[order(table.results$missing.values,decreasing=T),]\n",
    "sorted.results\n",
    "ggplot(sorted.results,aes(x=percentage.missing,reorder(feature,percentage.missing)))+geom_bar(stat =\"identity\") + theme_light()"
   ]
  },
  {
   "cell_type": "markdown",
   "metadata": {},
   "source": [
    "### Removing features that contains more than 20% of missing values\n",
    "\n",
    ">scheme_name contains 47% of missing values, we remove it from the dataSet and see how many rows still contain missing values."
   ]
  },
  {
   "cell_type": "code",
   "execution_count": 14,
   "metadata": {},
   "outputs": [
    {
     "data": {
      "text/html": [
       "<style>\n",
       ".list-inline {list-style: none; margin:0; padding: 0}\n",
       ".list-inline>li {display: inline-block}\n",
       ".list-inline>li:not(:last-child)::after {content: \"\\00b7\"; padding: 0 .5ex}\n",
       "</style>\n",
       "<ol class=list-inline><li>33846</li><li>40</li></ol>\n"
      ],
      "text/latex": [
       "\\begin{enumerate*}\n",
       "\\item 33846\n",
       "\\item 40\n",
       "\\end{enumerate*}\n"
      ],
      "text/markdown": [
       "1. 33846\n",
       "2. 40\n",
       "\n",
       "\n"
      ],
      "text/plain": [
       "[1] 33846    40"
      ]
     },
     "metadata": {},
     "output_type": "display_data"
    },
    {
     "data": {
      "text/html": [
       "<style>\n",
       ".list-inline {list-style: none; margin:0; padding: 0}\n",
       ".list-inline>li {display: inline-block}\n",
       ".list-inline>li:not(:last-child)::after {content: \"\\00b7\"; padding: 0 .5ex}\n",
       "</style>\n",
       "<ol class=list-inline><li>59764</li><li>39</li></ol>\n"
      ],
      "text/latex": [
       "\\begin{enumerate*}\n",
       "\\item 59764\n",
       "\\item 39\n",
       "\\end{enumerate*}\n"
      ],
      "text/markdown": [
       "1. 59764\n",
       "2. 39\n",
       "\n",
       "\n"
      ],
      "text/plain": [
       "[1] 59764    39"
      ]
     },
     "metadata": {},
     "output_type": "display_data"
    }
   ],
   "source": [
    "data <- dataSet\n",
    "data[data==\"\"] <- NA\n",
    "dim(na.omit(data))\n",
    "\n",
    "dataSet <- dataSet[, -which(names(dataSet) == \"scheme_name\")]\n",
    "\n",
    "data <- dataSet\n",
    "data[data==\"\"] <- NA\n",
    "dim(na.omit(data))"
   ]
  },
  {
   "cell_type": "markdown",
   "metadata": {},
   "source": [
    "### Conclusion on missing values\n",
    "\n",
    ">Because we have to give a prediction on each of the individuals present in the test set, we can't remove lines from the dataset.\n",
    "\n",
    ">Thus we have to choose between imputing missing values and treating them as a separate category for each variable. The two options have their downsides, mostly adding bias to the data.\n",
    "\n",
    ">We choose to treat them as a separate category."
   ]
  },
  {
   "cell_type": "markdown",
   "metadata": {},
   "source": [
    "## Reducing levels of categorical features\n",
    "\n",
    ">Some categorical features have a lot of factors. A large number of factors leads to high computation times and overfitting. Thus, those factors need to be reduced before handling the data to the model.\n",
    "\n",
    ">Finding a maximum number of factors is like making a trade of between underfitting and overfitting.\n",
    "\n",
    ">In the following we plot the frequencies of the 50 most frequent factors in each variable. This helps visualize how many factors we need to keep. The factor selection possess two objectives. The idea here is to minimize the number of factors we keep while maximizing the number of frequent factors we keep.\n",
    "\n",
    ">The method to reduce factors is the following : we observed the frequencies of the most frequent factors and selected the minimum number of factors that really stand out from the others. To sum up, we got rid of all the factors that were too little frequent. We used plots to visualise.\n",
    "\n",
    ">In the code section below, we show too different types of plots. The first shows a lot of useless factors that are going to be removed, the second one shows much less useless factors."
   ]
  },
  {
   "cell_type": "code",
   "execution_count": 15,
   "metadata": {},
   "outputs": [
    {
     "data": {
      "image/png": "[encoded data removed]",
      "text/plain": [
       "plot without title"
      ]
     },
     "metadata": {
      "image/png": {
       "height": 420,
       "width": 420
      }
     },
     "output_type": "display_data"
    },
    {
     "data": {
      "image/png": "[encoded data removed]",
      "text/plain": [
       "plot without title"
      ]
     },
     "metadata": {
      "image/png": {
       "height": 420,
       "width": 420
      }
     },
     "output_type": "display_data"
    }
   ],
   "source": [
    "# Very flat distribution from 5 to 50\n",
    "plot(summary(dataSet$installer)[1:50])\n",
    "# Fairly steep decreasing slope\n",
    "plot(summary(dataSet$subvillage)[1:50])"
   ]
  },
  {
   "cell_type": "markdown",
   "metadata": {},
   "source": [
    ">According to the plots we saw, we set a maximum number of factors for each feature. All the ones that are being removed are replaced by a factor \"Other\""
   ]
  },
  {
   "cell_type": "code",
   "execution_count": 16,
   "metadata": {},
   "outputs": [],
   "source": [
    "factors_names = c(\"installer\",\"funder\",\"wpt_name\",\n",
    "                  \"subvillage\",\"lga\",\"ward\",\"extraction_type_class\",\n",
    "                  \"extraction_type\",\"extraction_type_group\",\n",
    "                  \"quantity\",\"quantity_group\",\"waterpoint_type\",\"waterpoint_type_group\")\n",
    "nb_levels = c(5,5,6,9,9,9,4,8,7,4,4,4,4) # + 1\n",
    "\n",
    "names = list(\n",
    "    installer_names = names(summary(dataSet$installer)[1:nb_levels[1]]),\n",
    "    funder_names <- names(summary(dataSet$funder)[1:nb_levels[2]]),\n",
    "    wpt_name_names <- names(summary(dataSet$wpt_name)[1:nb_levels[3]]),\n",
    "    subvillage_names <- names(summary(dataSet$subvillage)[1:nb_levels[4]]),\n",
    "    lga_names <- names(summary(dataSet$lga)[1:nb_levels[5]]),\n",
    "    ward_names <- names(summary(dataSet$ward)[1:nb_levels[6]]),\n",
    "    extraction_type_class_names <- names(summary(dataSet$extraction_type_class)[1:nb_levels[7]]),\n",
    "    extraction_type_names <- names(summary(dataSet$extraction_type)[1:nb_levels[8]]),\n",
    "    extraction_type_group_names <- names(summary(dataSet$extraction_type_group)[1:nb_levels[9]]),\n",
    "    t1 <- names(summary(dataSet$quantity)[1:nb_levels[10]]),\n",
    "    t2 <- names(summary(dataSet$quantity_group)[1:nb_levels[11]]),\n",
    "    t3 <- names(summary(dataSet$waterpoint_type)[1:nb_levels[12]]),\n",
    "    t4 <- names(summary(dataSet$waterpoint_type_group)[1:nb_levels[13]])\n",
    ")\n",
    "\n",
    "index = 1\n",
    "for (var in factors_names){\n",
    "    variable <- factor(dataSet[,var], levels=c(unlist(unname(names[index])), \"Other\"))\n",
    "    variable[is.na(variable)] <- \"Other\"\n",
    "    dataSet[,var] <- variable\n",
    "    index = index + 1\n",
    "}"
   ]
  },
  {
   "cell_type": "markdown",
   "metadata": {},
   "source": [
    "## Format dates\n",
    "\n",
    ">In the dataset, date_recorded is a categorical feature in the format : \"year-month-day\". This format can't truly be interpreted by a model. Indeed, the model can't extract, from this format, the useful informations like year, month, day. We thus need to remove this variable format and replace it by a new one.\n",
    "\n",
    ">There are at least two ways to modify the format of the date :\n",
    ">- We can add tree new features, year, month and day. This way the model can exactly know when the line was recorded.\n",
    ">- We can add a new feature describing the number of days that have passed between the date and the oldest date in the dataset (we set the lower bound to 2001-01-01)\n",
    "\n",
    ">Each method brings information that the other doesn't. For instance, the first one explicitly differenciate time entities like months and years. If a month is highly correlated with a status \"non_functional\", the model will quickly know about it. In the other hand, it is easier with the second method to know precisely how old is the date recording.\n",
    "\n",
    ">We choose to create all the four new features and wait for the futures analysis to tell us if some features need to be removed.\n",
    "\n",
    ">We leave the feature contruction_year unchanged because having an integer to describe the year of the pump construction is already a good thing."
   ]
  },
  {
   "cell_type": "code",
   "execution_count": 17,
   "metadata": {},
   "outputs": [],
   "source": [
    "# Computing the new features\n",
    "days_since_2001 <- as.numeric(as.Date(dataSet$date_recorded) - as.Date(\"2001-01-01\"))\n",
    "year_recorded <- as.numeric(format(as.Date(dataSet$date_recorded), \"%Y\"))\n",
    "month_recorded <- as.numeric(format(as.Date(dataSet$date_recorded), \"%m\"))\n",
    "day_recorded <- as.numeric(format(as.Date(dataSet$date_recorded), \"%d\"))\n",
    "# Removing the old feature\n",
    "dataSet <- dataSet[, -which(names(dataSet) == \"date_recorded\")]\n",
    "# Adding the new features to the dataset\n",
    "dataSet <- cbind(dataSet, year_recorded)\n",
    "dataSet <- cbind(dataSet, month_recorded)\n",
    "dataSet <- cbind(dataSet, day_recorded)\n",
    "dataSet <- cbind(dataSet, days_since_2001)"
   ]
  },
  {
   "cell_type": "markdown",
   "metadata": {},
   "source": [
    "## Remove obviously useless features\n",
    "\n",
    ">Here we remove features that are clearly useless for the learning process :\n",
    ">- num_private has not documentation and is full of zeros.\n",
    ">- recorded_by is constant\n",
    "\n",
    ">##### IMPORTANT : we won't use the id feature when running the model, but we need it on the dataSet to identify lines. We remove id just before running a model, inside the learning functions."
   ]
  },
  {
   "cell_type": "code",
   "execution_count": 18,
   "metadata": {},
   "outputs": [],
   "source": [
    "dataSet <- dataSet[, -which(names(dataSet) == \"num_private\")]\n",
    "dataSet <- dataSet[, -which(names(dataSet) == \"recorded_by\")]"
   ]
  },
  {
   "cell_type": "markdown",
   "metadata": {},
   "source": [
    "## Remove features little associated with target value\n",
    "\n",
    ">In this section we use the cramer V measure of association between two categorical features. The function cramerAssociation(data,features_studied,threshold), defined at the beginning of the notebook, computes the cramer V association between the features and the target value, and prints all the features that have an association value smaller than 0.2.\n",
    "\n",
    ">The cramer V is not designed to measure association between continuous and categorical features, but we didn't find another measure that worked for us. Point biserial correlation is only taking binary features instead of categorical features, and Pearson’s correlation coefficient is only taking continous features. Thus, the results on the association between continous features like amout_tsh and the target value are to be studied carefully.\n",
    "\n",
    ">The Cramer's V measure of association is computed as follows :\n",
    "\n",
    "\\begin{align}\n",
    "V & = 𝑠𝑞𝑟𝑡(\\frac{𝜒2}{(𝑛𝑞−1)}) \\\\\n",
    "q & = min(nrow,ncol) \\\\\n",
    "n & = grand.total.of.observations\n",
    "\\end{align}"
   ]
  },
  {
   "cell_type": "code",
   "execution_count": 19,
   "metadata": {
    "scrolled": false
   },
   "outputs": [
    {
     "data": {
      "text/html": [
       "<table class=\"dataframe\">\n",
       "<caption>A data.frame: 6 × 2</caption>\n",
       "<thead>\n",
       "\t<tr><th></th><th scope=col>features</th><th scope=col>association.statusgroup</th></tr>\n",
       "\t<tr><th></th><th scope=col>&lt;fct&gt;</th><th scope=col>&lt;fct&gt;</th></tr>\n",
       "</thead>\n",
       "<tbody>\n",
       "\t<tr><th scope=row>1</th><td>amount_tsh</td><td>0.190409702925686 </td></tr>\n",
       "\t<tr><th scope=row>2</th><td>funder    </td><td>0.0965788493742786</td></tr>\n",
       "\t<tr><th scope=row>3</th><td>installer </td><td>0.106093292786878 </td></tr>\n",
       "\t<tr><th scope=row>4</th><td>wpt_name  </td><td>0.0732455779022614</td></tr>\n",
       "\t<tr><th scope=row>5</th><td>basin     </td><td>0.127162580061    </td></tr>\n",
       "\t<tr><th scope=row>6</th><td>subvillage</td><td>0.0302729482305235</td></tr>\n",
       "</tbody>\n",
       "</table>\n"
      ],
      "text/latex": [
       "A data.frame: 6 × 2\n",
       "\\begin{tabular}{r|ll}\n",
       "  & features & association.statusgroup\\\\\n",
       "  & <fct> & <fct>\\\\\n",
       "\\hline\n",
       "\t1 & amount\\_tsh & 0.190409702925686 \\\\\n",
       "\t2 & funder     & 0.0965788493742786\\\\\n",
       "\t3 & installer  & 0.106093292786878 \\\\\n",
       "\t4 & wpt\\_name   & 0.0732455779022614\\\\\n",
       "\t5 & basin      & 0.127162580061    \\\\\n",
       "\t6 & subvillage & 0.0302729482305235\\\\\n",
       "\\end{tabular}\n"
      ],
      "text/markdown": [
       "\n",
       "A data.frame: 6 × 2\n",
       "\n",
       "| <!--/--> | features &lt;fct&gt; | association.statusgroup &lt;fct&gt; |\n",
       "|---|---|---|\n",
       "| 1 | amount_tsh | 0.190409702925686  |\n",
       "| 2 | funder     | 0.0965788493742786 |\n",
       "| 3 | installer  | 0.106093292786878  |\n",
       "| 4 | wpt_name   | 0.0732455779022614 |\n",
       "| 5 | basin      | 0.127162580061     |\n",
       "| 6 | subvillage | 0.0302729482305235 |\n",
       "\n"
      ],
      "text/plain": [
       "  features   association.statusgroup\n",
       "1 amount_tsh 0.190409702925686      \n",
       "2 funder     0.0965788493742786     \n",
       "3 installer  0.106093292786878      \n",
       "4 wpt_name   0.0732455779022614     \n",
       "5 basin      0.127162580061         \n",
       "6 subvillage 0.0302729482305235     "
      ]
     },
     "metadata": {},
     "output_type": "display_data"
    }
   ],
   "source": [
    "train <- dataSet[1:nrow(train),]\n",
    "test <- dataSet[(nrow(train)+1):nrow(dataSet),]\n",
    "\n",
    "train <- merge(train,trainLabels)\n",
    "\n",
    "table.results <- cramerAssociation(train,names(train),threshold=0.2)\n",
    "\n",
    "head(table.results)\n",
    "\n",
    "# See all the values\n",
    "# table.results"
   ]
  },
  {
   "cell_type": "code",
   "execution_count": 20,
   "metadata": {},
   "outputs": [],
   "source": [
    "# Remove features less associated with target value than 20%\n",
    "for (name in table.results$features) {\n",
    "    dataSet <- dataSet[, -which(names(dataSet) == name)]\n",
    "}"
   ]
  },
  {
   "cell_type": "code",
   "execution_count": 21,
   "metadata": {},
   "outputs": [
    {
     "data": {
      "text/html": [
       "<style>\n",
       ".list-inline {list-style: none; margin:0; padding: 0}\n",
       ".list-inline>li {display: inline-block}\n",
       ".list-inline>li:not(:last-child)::after {content: \"\\00b7\"; padding: 0 .5ex}\n",
       "</style>\n",
       "<ol class=list-inline><li>74250</li><li>12</li></ol>\n"
      ],
      "text/latex": [
       "\\begin{enumerate*}\n",
       "\\item 74250\n",
       "\\item 12\n",
       "\\end{enumerate*}\n"
      ],
      "text/markdown": [
       "1. 74250\n",
       "2. 12\n",
       "\n",
       "\n"
      ],
      "text/plain": [
       "[1] 74250    12"
      ]
     },
     "metadata": {},
     "output_type": "display_data"
    }
   ],
   "source": [
    "dim(dataSet)"
   ]
  },
  {
   "cell_type": "markdown",
   "metadata": {},
   "source": [
    "## Identify similar features and choose only one per group\n",
    "\n",
    ">In this section, we look at the association between paired features to identify groups of similar features. We set the association threshold to 0.75, meaning the function crossTableAssociation will signal similar features if their cramer V association is greater than 0.75.\n",
    "\n",
    ">We want to take only one variable per group."
   ]
  },
  {
   "cell_type": "code",
   "execution_count": 22,
   "metadata": {},
   "outputs": [
    {
     "name": "stdout",
     "output_type": "stream",
     "text": [
      "[ extraction_type_group ] is associated with [ extraction_type_class ] ->  0.925697664597424 \n",
      "[ quantity ] is associated with [ quantity_group ] ->  1 \n"
     ]
    }
   ],
   "source": [
    "categorical_names = c(\"region\",\"extraction_type_group\",\n",
    "                      \"extraction_type_class\",\"quantity\",\n",
    "                      \"quantity_group\",\"waterpoint_type_group\")\n",
    "crossTableAssociation(dataSet,categorical_names,0.75)"
   ]
  },
  {
   "cell_type": "markdown",
   "metadata": {},
   "source": [
    ">We thus keep only the best variable of each group of similar features. We keep the one having the highest association with the target value."
   ]
  },
  {
   "cell_type": "code",
   "execution_count": 23,
   "metadata": {},
   "outputs": [
    {
     "data": {
      "text/html": [
       "<table class=\"dataframe\">\n",
       "<caption>A data.frame: 4 × 2</caption>\n",
       "<thead>\n",
       "\t<tr><th></th><th scope=col>features</th><th scope=col>association.statusgroup</th></tr>\n",
       "\t<tr><th></th><th scope=col>&lt;fct&gt;</th><th scope=col>&lt;fct&gt;</th></tr>\n",
       "</thead>\n",
       "<tbody>\n",
       "\t<tr><th scope=row>22</th><td>extraction_type_group</td><td>0.246152363371028</td></tr>\n",
       "\t<tr><th scope=row>23</th><td>extraction_type_class</td><td>0.241041272903453</td></tr>\n",
       "\t<tr><th scope=row>30</th><td>quantity             </td><td>0.309239970561213</td></tr>\n",
       "\t<tr><th scope=row>31</th><td>quantity_group       </td><td>0.309239970561213</td></tr>\n",
       "</tbody>\n",
       "</table>\n"
      ],
      "text/latex": [
       "A data.frame: 4 × 2\n",
       "\\begin{tabular}{r|ll}\n",
       "  & features & association.statusgroup\\\\\n",
       "  & <fct> & <fct>\\\\\n",
       "\\hline\n",
       "\t22 & extraction\\_type\\_group & 0.246152363371028\\\\\n",
       "\t23 & extraction\\_type\\_class & 0.241041272903453\\\\\n",
       "\t30 & quantity              & 0.309239970561213\\\\\n",
       "\t31 & quantity\\_group        & 0.309239970561213\\\\\n",
       "\\end{tabular}\n"
      ],
      "text/markdown": [
       "\n",
       "A data.frame: 4 × 2\n",
       "\n",
       "| <!--/--> | features &lt;fct&gt; | association.statusgroup &lt;fct&gt; |\n",
       "|---|---|---|\n",
       "| 22 | extraction_type_group | 0.246152363371028 |\n",
       "| 23 | extraction_type_class | 0.241041272903453 |\n",
       "| 30 | quantity              | 0.309239970561213 |\n",
       "| 31 | quantity_group        | 0.309239970561213 |\n",
       "\n"
      ],
      "text/plain": [
       "   features              association.statusgroup\n",
       "22 extraction_type_group 0.246152363371028      \n",
       "23 extraction_type_class 0.241041272903453      \n",
       "30 quantity              0.309239970561213      \n",
       "31 quantity_group        0.309239970561213      "
      ]
     },
     "metadata": {},
     "output_type": "display_data"
    }
   ],
   "source": [
    "table.results <- cramerAssociation(train,names(train),threshold=1)\n",
    "table.results[table.results$features==\"quantity\" | table.results$features==\"quantity_group\" |\n",
    "              table.results$features==\"extraction_type_group\" | table.results$features==\"extraction_type_class\",]"
   ]
  },
  {
   "cell_type": "markdown",
   "metadata": {},
   "source": [
    ">We choose **extraction_type_group** and **quantity**"
   ]
  },
  {
   "cell_type": "code",
   "execution_count": 24,
   "metadata": {},
   "outputs": [],
   "source": [
    "dataSet <- dataSet[, -which(names(dataSet) == \"quantity_group\")]\n",
    "dataSet <- dataSet[, -which(names(dataSet) == \"extraction_type_class\")]"
   ]
  },
  {
   "cell_type": "markdown",
   "metadata": {},
   "source": [
    ">We also remove the variable region_code that is clearly a alias of region."
   ]
  },
  {
   "cell_type": "code",
   "execution_count": 25,
   "metadata": {},
   "outputs": [],
   "source": [
    "dataSet <- dataSet[, -which(names(dataSet) == \"region_code\")]"
   ]
  },
  {
   "cell_type": "markdown",
   "metadata": {},
   "source": [
    "## Last check on the data\n",
    "\n",
    ">Here we give a last look to the data, making sure that:\n",
    ">- features have few levels\n",
    ">- features have an association with status_group greater than 20%."
   ]
  },
  {
   "cell_type": "code",
   "execution_count": 26,
   "metadata": {},
   "outputs": [
    {
     "data": {
      "text/html": [
       "<table class=\"dataframe\">\n",
       "<caption>A data.frame: 6 × 10</caption>\n",
       "<thead>\n",
       "\t<tr><th></th><th scope=col>id</th><th scope=col>gps_height</th><th scope=col>longitude</th><th scope=col>latitude</th><th scope=col>region</th><th scope=col>extraction_type_group</th><th scope=col>quantity</th><th scope=col>waterpoint_type_group</th><th scope=col>days_since_2001</th><th scope=col>status_group</th></tr>\n",
       "\t<tr><th></th><th scope=col>&lt;int&gt;</th><th scope=col>&lt;int&gt;</th><th scope=col>&lt;dbl&gt;</th><th scope=col>&lt;dbl&gt;</th><th scope=col>&lt;fct&gt;</th><th scope=col>&lt;fct&gt;</th><th scope=col>&lt;fct&gt;</th><th scope=col>&lt;fct&gt;</th><th scope=col>&lt;dbl&gt;</th><th scope=col>&lt;fct&gt;</th></tr>\n",
       "</thead>\n",
       "<tbody>\n",
       "\t<tr><th scope=row>1</th><td>0</td><td>   0</td><td>33.12583</td><td>-5.118154</td><td>Tabora     </td><td>afridev    </td><td>enough      </td><td>hand pump         </td><td>4334</td><td>non functional</td></tr>\n",
       "\t<tr><th scope=row>2</th><td>1</td><td>1978</td><td>34.77072</td><td>-9.395642</td><td>Iringa     </td><td>Other      </td><td>enough      </td><td>hand pump         </td><td>3715</td><td>functional    </td></tr>\n",
       "\t<tr><th scope=row>3</th><td>2</td><td>   0</td><td>36.11506</td><td>-6.279268</td><td>Dodoma     </td><td>mono       </td><td>insufficient</td><td>communal standpipe</td><td>3737</td><td>functional    </td></tr>\n",
       "\t<tr><th scope=row>4</th><td>3</td><td>1639</td><td>37.14743</td><td>-3.187555</td><td>Kilimanjaro</td><td>gravity    </td><td>enough      </td><td>communal standpipe</td><td>4536</td><td>functional    </td></tr>\n",
       "\t<tr><th scope=row>5</th><td>4</td><td>   0</td><td>36.16489</td><td>-6.099289</td><td>Dodoma     </td><td>nira/tanira</td><td>dry         </td><td>hand pump         </td><td>3732</td><td>non functional</td></tr>\n",
       "\t<tr><th scope=row>6</th><td>5</td><td>  28</td><td>39.28612</td><td>-6.972403</td><td>Pwani      </td><td>Other      </td><td>enough      </td><td>communal standpipe</td><td>3708</td><td>functional    </td></tr>\n",
       "</tbody>\n",
       "</table>\n"
      ],
      "text/latex": [
       "A data.frame: 6 × 10\n",
       "\\begin{tabular}{r|llllllllll}\n",
       "  & id & gps\\_height & longitude & latitude & region & extraction\\_type\\_group & quantity & waterpoint\\_type\\_group & days\\_since\\_2001 & status\\_group\\\\\n",
       "  & <int> & <int> & <dbl> & <dbl> & <fct> & <fct> & <fct> & <fct> & <dbl> & <fct>\\\\\n",
       "\\hline\n",
       "\t1 & 0 &    0 & 33.12583 & -5.118154 & Tabora      & afridev     & enough       & hand pump          & 4334 & non functional\\\\\n",
       "\t2 & 1 & 1978 & 34.77072 & -9.395642 & Iringa      & Other       & enough       & hand pump          & 3715 & functional    \\\\\n",
       "\t3 & 2 &    0 & 36.11506 & -6.279268 & Dodoma      & mono        & insufficient & communal standpipe & 3737 & functional    \\\\\n",
       "\t4 & 3 & 1639 & 37.14743 & -3.187555 & Kilimanjaro & gravity     & enough       & communal standpipe & 4536 & functional    \\\\\n",
       "\t5 & 4 &    0 & 36.16489 & -6.099289 & Dodoma      & nira/tanira & dry          & hand pump          & 3732 & non functional\\\\\n",
       "\t6 & 5 &   28 & 39.28612 & -6.972403 & Pwani       & Other       & enough       & communal standpipe & 3708 & functional    \\\\\n",
       "\\end{tabular}\n"
      ],
      "text/markdown": [
       "\n",
       "A data.frame: 6 × 10\n",
       "\n",
       "| <!--/--> | id &lt;int&gt; | gps_height &lt;int&gt; | longitude &lt;dbl&gt; | latitude &lt;dbl&gt; | region &lt;fct&gt; | extraction_type_group &lt;fct&gt; | quantity &lt;fct&gt; | waterpoint_type_group &lt;fct&gt; | days_since_2001 &lt;dbl&gt; | status_group &lt;fct&gt; |\n",
       "|---|---|---|---|---|---|---|---|---|---|---|\n",
       "| 1 | 0 |    0 | 33.12583 | -5.118154 | Tabora      | afridev     | enough       | hand pump          | 4334 | non functional |\n",
       "| 2 | 1 | 1978 | 34.77072 | -9.395642 | Iringa      | Other       | enough       | hand pump          | 3715 | functional     |\n",
       "| 3 | 2 |    0 | 36.11506 | -6.279268 | Dodoma      | mono        | insufficient | communal standpipe | 3737 | functional     |\n",
       "| 4 | 3 | 1639 | 37.14743 | -3.187555 | Kilimanjaro | gravity     | enough       | communal standpipe | 4536 | functional     |\n",
       "| 5 | 4 |    0 | 36.16489 | -6.099289 | Dodoma      | nira/tanira | dry          | hand pump          | 3732 | non functional |\n",
       "| 6 | 5 |   28 | 39.28612 | -6.972403 | Pwani       | Other       | enough       | communal standpipe | 3708 | functional     |\n",
       "\n"
      ],
      "text/plain": [
       "  id gps_height longitude latitude  region      extraction_type_group\n",
       "1 0     0       33.12583  -5.118154 Tabora      afridev              \n",
       "2 1  1978       34.77072  -9.395642 Iringa      Other                \n",
       "3 2     0       36.11506  -6.279268 Dodoma      mono                 \n",
       "4 3  1639       37.14743  -3.187555 Kilimanjaro gravity              \n",
       "5 4     0       36.16489  -6.099289 Dodoma      nira/tanira          \n",
       "6 5    28       39.28612  -6.972403 Pwani       Other                \n",
       "  quantity     waterpoint_type_group days_since_2001 status_group  \n",
       "1 enough       hand pump             4334            non functional\n",
       "2 enough       hand pump             3715            functional    \n",
       "3 insufficient communal standpipe    3737            functional    \n",
       "4 enough       communal standpipe    4536            functional    \n",
       "5 dry          hand pump             3732            non functional\n",
       "6 enough       communal standpipe    3708            functional    "
      ]
     },
     "metadata": {},
     "output_type": "display_data"
    },
    {
     "data": {
      "text/html": [
       "<style>\n",
       ".list-inline {list-style: none; margin:0; padding: 0}\n",
       ".list-inline>li {display: inline-block}\n",
       ".list-inline>li:not(:last-child)::after {content: \"\\00b7\"; padding: 0 .5ex}\n",
       "</style>\n",
       "<ol class=list-inline><li>59400</li><li>10</li></ol>\n"
      ],
      "text/latex": [
       "\\begin{enumerate*}\n",
       "\\item 59400\n",
       "\\item 10\n",
       "\\end{enumerate*}\n"
      ],
      "text/markdown": [
       "1. 59400\n",
       "2. 10\n",
       "\n",
       "\n"
      ],
      "text/plain": [
       "[1] 59400    10"
      ]
     },
     "metadata": {},
     "output_type": "display_data"
    },
    {
     "data": {
      "text/html": [
       "<style>\n",
       ".list-inline {list-style: none; margin:0; padding: 0}\n",
       ".list-inline>li {display: inline-block}\n",
       ".list-inline>li:not(:last-child)::after {content: \"\\00b7\"; padding: 0 .5ex}\n",
       "</style>\n",
       "<ol class=list-inline><li>14850</li><li>9</li></ol>\n"
      ],
      "text/latex": [
       "\\begin{enumerate*}\n",
       "\\item 14850\n",
       "\\item 9\n",
       "\\end{enumerate*}\n"
      ],
      "text/markdown": [
       "1. 14850\n",
       "2. 9\n",
       "\n",
       "\n"
      ],
      "text/plain": [
       "[1] 14850     9"
      ]
     },
     "metadata": {},
     "output_type": "display_data"
    },
    {
     "name": "stdout",
     "output_type": "stream",
     "text": [
      "'data.frame':\t59400 obs. of  10 variables:\n",
      " $ id                   : int  0 1 2 3 4 5 6 7 8 9 ...\n",
      " $ gps_height           : int  0 1978 0 1639 0 28 0 0 0 0 ...\n",
      " $ longitude            : num  33.1 34.8 36.1 37.1 36.2 ...\n",
      " $ latitude             : num  -5.12 -9.4 -6.28 -3.19 -6.1 ...\n",
      " $ region               : Factor w/ 21 levels \"Arusha\",\"Dar es Salaam\",..: 20 4 3 7 3 15 18 3 3 5 ...\n",
      " $ extraction_type_group: Factor w/ 8 levels \"afridev\",\"gravity\",..: 1 8 5 2 6 8 7 7 5 5 ...\n",
      " $ quantity             : Factor w/ 5 levels \"dry\",\"enough\",..: 2 2 3 2 1 2 4 3 1 3 ...\n",
      " $ waterpoint_type_group: Factor w/ 5 levels \"cattle trough\",..: 4 4 2 2 4 2 5 5 2 2 ...\n",
      " $ days_since_2001      : num  4334 3715 3737 4536 3732 ...\n",
      " $ status_group         : Factor w/ 3 levels \"functional\",\"functional needs repair\",..: 3 1 1 1 3 1 3 1 3 3 ...\n",
      "\n"
     ]
    },
    {
     "data": {
      "text/html": [
       "<table class=\"dataframe\">\n",
       "<caption>A data.frame: 8 × 2</caption>\n",
       "<thead>\n",
       "\t<tr><th scope=col>features</th><th scope=col>association.statusgroup</th></tr>\n",
       "\t<tr><th scope=col>&lt;fct&gt;</th><th scope=col>&lt;fct&gt;</th></tr>\n",
       "</thead>\n",
       "<tbody>\n",
       "\t<tr><td>gps_height           </td><td>0.229910915501276</td></tr>\n",
       "\t<tr><td>longitude            </td><td>0.974333782951389</td></tr>\n",
       "\t<tr><td>latitude             </td><td>0.974343380825274</td></tr>\n",
       "\t<tr><td>region               </td><td>0.200895116574615</td></tr>\n",
       "\t<tr><td>extraction_type_group</td><td>0.246152363371028</td></tr>\n",
       "\t<tr><td>quantity             </td><td>0.309239970561213</td></tr>\n",
       "\t<tr><td>waterpoint_type_group</td><td>0.202465159819959</td></tr>\n",
       "\t<tr><td>days_since_2001      </td><td>0.205269653564557</td></tr>\n",
       "</tbody>\n",
       "</table>\n"
      ],
      "text/latex": [
       "A data.frame: 8 × 2\n",
       "\\begin{tabular}{ll}\n",
       " features & association.statusgroup\\\\\n",
       " <fct> & <fct>\\\\\n",
       "\\hline\n",
       "\t gps\\_height            & 0.229910915501276\\\\\n",
       "\t longitude             & 0.974333782951389\\\\\n",
       "\t latitude              & 0.974343380825274\\\\\n",
       "\t region                & 0.200895116574615\\\\\n",
       "\t extraction\\_type\\_group & 0.246152363371028\\\\\n",
       "\t quantity              & 0.309239970561213\\\\\n",
       "\t waterpoint\\_type\\_group & 0.202465159819959\\\\\n",
       "\t days\\_since\\_2001       & 0.205269653564557\\\\\n",
       "\\end{tabular}\n"
      ],
      "text/markdown": [
       "\n",
       "A data.frame: 8 × 2\n",
       "\n",
       "| features &lt;fct&gt; | association.statusgroup &lt;fct&gt; |\n",
       "|---|---|\n",
       "| gps_height            | 0.229910915501276 |\n",
       "| longitude             | 0.974333782951389 |\n",
       "| latitude              | 0.974343380825274 |\n",
       "| region                | 0.200895116574615 |\n",
       "| extraction_type_group | 0.246152363371028 |\n",
       "| quantity              | 0.309239970561213 |\n",
       "| waterpoint_type_group | 0.202465159819959 |\n",
       "| days_since_2001       | 0.205269653564557 |\n",
       "\n"
      ],
      "text/plain": [
       "  features              association.statusgroup\n",
       "1 gps_height            0.229910915501276      \n",
       "2 longitude             0.974333782951389      \n",
       "3 latitude              0.974343380825274      \n",
       "4 region                0.200895116574615      \n",
       "5 extraction_type_group 0.246152363371028      \n",
       "6 quantity              0.309239970561213      \n",
       "7 waterpoint_type_group 0.202465159819959      \n",
       "8 days_since_2001       0.205269653564557      "
      ]
     },
     "metadata": {},
     "output_type": "display_data"
    }
   ],
   "source": [
    "train <- dataSet[1:nrow(train),]\n",
    "test <- dataSet[(nrow(train)+1):nrow(dataSet),]\n",
    "\n",
    "train <- merge(train,trainLabels)\n",
    "\n",
    "head(train)\n",
    "\n",
    "dim(train)\n",
    "dim(test)\n",
    "\n",
    "str(train)\n",
    "\n",
    "cat(paste(\"\\n\"))\n",
    "\n",
    "cramerAssociation(train,names(train[,-1]),1)"
   ]
  },
  {
   "cell_type": "markdown",
   "metadata": {},
   "source": [
    "## The data is ready !"
   ]
  },
  {
   "cell_type": "markdown",
   "metadata": {},
   "source": [
    "# 2) Model selection\n",
    "\n",
    ">In this section we estimate the accuracy of three different models, using the preprocessed data constructed in part 1.\n",
    "\n",
    ">The models we will study are :\n",
    ">- **single-hidden-layer neural network**\n",
    ">- **decision tree**\n",
    ">- **random forest**\n",
    "\n",
    ">We estimate the classification rate of each model by running a **10 fold cross validation** procedure, except for the random forest because of the high computation cost. We thus operate a **5 fold cross validation** to validate the random forest model, to avoid a crash from jupyter kernel."
   ]
  },
  {
   "cell_type": "markdown",
   "metadata": {},
   "source": [
    "## Choose your execution parameter\n",
    "\n",
    ">You can set the parameter **EXECUTION** to a value between 1,2 and 3. One being the minimal run, and 3 the expensive one. By default the parameter is set to 2, where all the important algorithms are called. "
   ]
  },
  {
   "cell_type": "code",
   "execution_count": 27,
   "metadata": {},
   "outputs": [],
   "source": [
    "#EXECUTION <- 1 # MINIMAL : all the lines that take more than 1 minute of compilation won't run (VERY FAST)\n",
    "EXECUTION <- 2 # NORMAL : all the main algorithms will run, but the hyperparameters tunings won't\n",
    "#EXECUTION <- 3 # LONG : all the lines will run (VERY EXPENSIVE)"
   ]
  },
  {
   "cell_type": "markdown",
   "metadata": {},
   "source": [
    "### Single-Hidden-Layer neural network\n",
    "\n",
    ">The single-hidden-layer neural network structure is explicit. The model is a neural network containing only one hidden layer. We choose to allow skip connections (parameter skip = TRUE) to minimize vanishing gradient.\n",
    "\n",
    ">Because the performance of this model highly depends on it's number of nodes, we choose to study the impact of the number of nodes on the classification rate. To limit computation time, we don't go further than 10 hidden nodes, testing only 3, 5 and 10 hidden nodes.\n",
    "\n",
    ">We obtain the best results (classification rate around 60%) with 5 hidden nodes. You can verify this by running the **neural_network_optimize_hidden_nodes(data,list_nodes)**, wich takes some time to execute.\n",
    "\n",
    ">We choose to use integer encoding for the categorical features. The nnet function automatically encode the categorical features using integer encoding. Thus we don't need to modify our existing data before giving it to the nnet model."
   ]
  },
  {
   "cell_type": "code",
   "execution_count": 28,
   "metadata": {},
   "outputs": [],
   "source": [
    "neural_network_fold_cross_validation <- function(trainingSet,k,nb_hidden_nodes) {\n",
    "    \n",
    "    # INITIALISATION\n",
    "    \n",
    "    start_time <- Sys.time()\n",
    "    # removing column id in dataset\n",
    "    trainingSet <- trainingSet[, -which(names(trainingSet) == \"id\")]\n",
    "    # indexing status_group\n",
    "    target_variable <- ncol(trainingSet)\n",
    "    # vector storing the classification rates\n",
    "    classification_rate <- array(0,k)\n",
    "    # shuffle trainingSet\n",
    "    train_idx <- sample(1:nrow(trainingSet))\n",
    "    # split the trainingset into k groups\n",
    "    max <- ceiling(nrow(trainingSet)/k)\n",
    "    splits <- split(train_idx, ceiling(seq_along(train_idx)/max))\n",
    "    \n",
    "    # 10 FOLD CROSS VALIDATION\n",
    "\n",
    "    for (i in 1:k){\n",
    "        # separate the training set from the fold test set\n",
    "        test_data <- trainingSet[splits[[i]],]\n",
    "        train_data <- trainingSet[-splits[[i]],]\n",
    "        \n",
    "        # Fit the model to the training set\n",
    "        model <- model <- nnet(status_group ~ .,\n",
    "                                 data=train_data,\n",
    "                                 size=nb_hidden_nodes,\n",
    "                                 skip=TRUE,\n",
    "                                 MaxNWts=10000,\n",
    "                                 trace=F)\n",
    "\n",
    "        # Predict the label of test_data\n",
    "        Y_pred <- predict(model,test_data[,-target_variable])\n",
    "        Y_hat <- ifelse(Y_pred[,1] >= Y_pred[,2] & Y_pred[,1] >= Y_pred[,3],\n",
    "                     \"functional\",\n",
    "                     ifelse(Y_pred[,2] >= Y_pred[,3], \"functional needs repair\", \"non functional\"))\n",
    "        \n",
    "        # True label\n",
    "        Y <- test_data[,target_variable]\n",
    "\n",
    "        # Compute confusion matrix \n",
    "        confusion_matrix <- table(Y_hat,Y)\n",
    "        \n",
    "        # Compute the classification rate\n",
    "        if ((dim(confusion_matrix)[1]) == 1){\n",
    "            classification_rate[i] = (confusion_matrix[1,1])/length(Y)\n",
    "        } else if((dim(confusion_matrix)[1]) == 2) {\n",
    "            classification_rate[i] = (confusion_matrix[1,1]+confusion_matrix[2,2])/length(Y)\n",
    "        } else {\n",
    "            classification_rate[i] = (confusion_matrix[1,1]+confusion_matrix[2,2]+confusion_matrix[3,3])/length(Y)\n",
    "        }\n",
    "    }\n",
    "    \n",
    "    end_time <- Sys.time()\n",
    "    print(end_time - start_time)\n",
    "    \n",
    "    return(mean(classification_rate))\n",
    "}"
   ]
  },
  {
   "cell_type": "code",
   "execution_count": 29,
   "metadata": {},
   "outputs": [],
   "source": [
    "neural_network_optimize_hidden_nodes <- function(trainingSet,k,values_hidden_nodes) {\n",
    "    classification_rate <- c()\n",
    "    # Computing a 10 fold cross validation for each number of hidden nodes\n",
    "    for (nb_hidden_nodes in values_hidden_nodes) {\n",
    "        classification_rate <- c(classification_rate,neural_network_fold_cross_validation(trainingSet,k,nb_hidden_nodes))\n",
    "    }\n",
    "    cat(paste(\"\\nClassification rates :\\n\"))\n",
    "    print(classification_rate)\n",
    "    plot(classification_rate)\n",
    "    bestIndex <- argmax(mat(classification_rate,nrow=1))\n",
    "    bestClassificationRate <- max(classification_rate)\n",
    "    cat(paste(\"The neural network works best with\",\n",
    "              values_hidden_nodes[bestIndex],\n",
    "              \"hidden nodes, obtaining a classification rate of\",bestClassificationRate))\n",
    "    return(bestClassificationRate)\n",
    "}"
   ]
  },
  {
   "cell_type": "code",
   "execution_count": 30,
   "metadata": {},
   "outputs": [
    {
     "name": "stdout",
     "output_type": "stream",
     "text": [
      "Time difference of 2.009154 mins\n"
     ]
    },
    {
     "data": {
      "text/html": [
       "0.596700336700337"
      ],
      "text/latex": [
       "0.596700336700337"
      ],
      "text/markdown": [
       "0.596700336700337"
      ],
      "text/plain": [
       "[1] 0.5967003"
      ]
     },
     "metadata": {},
     "output_type": "display_data"
    }
   ],
   "source": [
    "if (EXECUTION == 2) {\n",
    "    accuracy_nn = neural_network_fold_cross_validation(train,10,5)\n",
    "    accuracy_nn\n",
    "}\n",
    "\n",
    "if (EXECUTION == 3) {\n",
    "    best_accuracy_nn = neural_network_optimize_hidden_nodes(train,10,c(3,5,10))\n",
    "    best_accuracy_nn\n",
    "}"
   ]
  },
  {
   "cell_type": "markdown",
   "metadata": {},
   "source": [
    "## Decision tree\n",
    "\n",
    ">This model is a simple single decision tree. We chose this model to better illustrate the improvement of the random forest over a single tree.\n",
    "\n",
    ">Tunning of hyperparameters : we studied the impact of the depth of the tree over the classification rate. We obtained best results with ??? (classification rate around ???%). You can replicate this experiment by running the function **decision_tree_optimize_depth(data,list_depths,verbose)**, which again is quite expensive in terms of computation times."
   ]
  },
  {
   "cell_type": "code",
   "execution_count": 31,
   "metadata": {},
   "outputs": [],
   "source": [
    "decision_tree_fold_crossValidation <- function(trainingSet,k,depth,verbose) {\n",
    "    \n",
    "    # INITIALISATION\n",
    "    \n",
    "    start_time <- Sys.time()\n",
    "    # removing column id in dataset\n",
    "    trainingSet <- trainingSet[, -which(names(trainingSet) == \"id\")]\n",
    "    # indexing status_group\n",
    "    target_variable <- ncol(trainingSet)\n",
    "    # vector storing the classification rates\n",
    "    classification_rate <- array(0,k)\n",
    "    # Shuffle trainingSet\n",
    "    train_idx <- sample(1:nrow(trainingSet))\n",
    "    # Split the dataset into k groups\n",
    "    max <- ceiling(nrow(trainingSet)/k)\n",
    "    splits <- split(train_idx, ceiling(seq_along(train_idx)/max))\n",
    "    \n",
    "    # 10 FOLD CROSS VALIDATION\n",
    "\n",
    "    for (i in 1:k){\n",
    "        # separate the training set from the fold test set\n",
    "        test_data <- trainingSet[splits[[i]],]\n",
    "        train_data <- trainingSet[-splits[[i]],]\n",
    "\n",
    "        # Fit the model to the training set\n",
    "        model <- rpart(status_group ~ ., method=\"class\",data=train_data,control = list(maxdepth = depth))\n",
    "        \n",
    "        if (i == 1 & verbose) {\n",
    "            plot(model, uniform=TRUE, main=\"Classification Tree - Rpart\")\n",
    "            text(model, use.n=TRUE, all=TRUE, cex=.8)\n",
    "        }\n",
    "\n",
    "        # Predict the label of test_data\n",
    "        Y_pred <- predict(model,test_data[,-target_variable])\n",
    "        Y_hat <- ifelse(Y_pred[,1] >= Y_pred[,2] & Y_pred[,1] >= Y_pred[,3],\n",
    "                     \"functional\",\n",
    "                     ifelse(Y_pred[,2] >= Y_pred[,3], \"functional needs repair\", \"non functional\")\n",
    "                    )\n",
    "        # True label\n",
    "        Y <- test_data[,target_variable]\n",
    "        \n",
    "        # Compute confusion matrix \n",
    "        confusion_matrix <- table(Y_hat,Y)\n",
    "\n",
    "        # Compute the classification rate\n",
    "        if ((dim(confusion_matrix)[1]) == 1){\n",
    "            classification_rate[i] = (confusion_matrix[1,1])/length(Y)\n",
    "        } else if((dim(confusion_matrix)[1]) == 2) {\n",
    "            classification_rate[i] = (confusion_matrix[1,1]+confusion_matrix[2,2])/length(Y)\n",
    "        } else {\n",
    "            classification_rate[i] = (confusion_matrix[1,1]+confusion_matrix[2,2]+confusion_matrix[3,3])/length(Y)\n",
    "        }\n",
    "    }\n",
    "    \n",
    "    end_time <- Sys.time()\n",
    "    print(end_time - start_time)\n",
    "    return(mean(classification_rate))\n",
    "}"
   ]
  },
  {
   "cell_type": "code",
   "execution_count": 32,
   "metadata": {},
   "outputs": [],
   "source": [
    "decision_tree_optimize_depth <- function(trainingSet,k,values_depth,verbose) {\n",
    "    classification_rate <- c()\n",
    "    # Computing a 10 fold cross validation for each depth\n",
    "    for (depth in values_depth) {\n",
    "        classification_rate <- c(classification_rate,decision_tree_fold_crossValidation(trainingSet,k,depth,verbose))\n",
    "    }\n",
    "    cat(paste(\"\\nClassification rates :\\n\"))\n",
    "    print(classification_rate)\n",
    "    plot(classification_rate)\n",
    "    bestIndex <- argmax(mat(classification_rate,nrow=1))\n",
    "    bestClassificationRate <- max(classification_rate)\n",
    "    cat(paste(\"The decision tree works best with a depth equal to\",\n",
    "              values_depth[bestIndex],\n",
    "              \", obtaining a classification rate of\",bestClassificationRate))\n",
    "    return(bestClassificationRate)\n",
    "}"
   ]
  },
  {
   "cell_type": "code",
   "execution_count": 33,
   "metadata": {},
   "outputs": [
    {
     "name": "stdout",
     "output_type": "stream",
     "text": [
      "Time difference of 45.58932 secs\n",
      "Classification rate : 0.524360269360269"
     ]
    },
    {
     "data": {
      "image/png": "[encoded data removed]",
      "text/plain": [
       "Plot with title “Classification Tree - Rpart”"
      ]
     },
     "metadata": {
      "image/png": {
       "height": 420,
       "width": 420
      }
     },
     "output_type": "display_data"
    }
   ],
   "source": [
    "if (EXECUTION == 2) {\n",
    "    accuracy_dt <- decision_tree_fold_crossValidation(train,10,9,verbose=TRUE)\n",
    "    cat(paste(\"Classification rate :\",accuracy_dt))\n",
    "}\n",
    "\n",
    "if (EXECUTION == 3) {\n",
    "    best_accuracy_dt <- decision_tree_optimize_depth(train,10,c(3,5,7,9,11,13,15,17,19,21),verbose=FALSE)\n",
    "    best_accuracy_dt\n",
    "}"
   ]
  },
  {
   "cell_type": "markdown",
   "metadata": {},
   "source": [
    "## Random forest\n",
    "\n",
    ">The random forest builds several decision trees, using for each one a random number of features. The output of the model is obtained by passing the input inside each tree. The output that is the more frequent is considered the final output.\n",
    "\n",
    ">For this model, because of the big computation times, we don't dive into hyperparameters tuning, leaving the default values."
   ]
  },
  {
   "cell_type": "code",
   "execution_count": 34,
   "metadata": {
    "scrolled": true
   },
   "outputs": [],
   "source": [
    "random_forest_fold_cross_validation <- function(trainingSet,k,verbose) {\n",
    "    \n",
    "    # INITIALISATION\n",
    "    \n",
    "    start_time <- Sys.time()\n",
    "    \n",
    "    # removing column id in dataset\n",
    "    trainingSet <- trainingSet[, -which(names(trainingSet) == \"id\")]\n",
    "    # indexing status_group\n",
    "    target_variable <- ncol(trainingSet)\n",
    "    # vector storing the classification rates\n",
    "    classification_rate <- array(0,k)\n",
    "    # Shuffle trainingSet\n",
    "    train_idx <- sample(1:nrow(trainingSet))\n",
    "    # Split the dataset into k groups\n",
    "    max <- ceiling(nrow(trainingSet)/k)\n",
    "    splits <- split(train_idx, ceiling(seq_along(train_idx)/max))\n",
    "\n",
    "    # 10 FOLD CROSS VALIDATION\n",
    "    \n",
    "    for (i in 1:k){\n",
    "        # separate the training set from the fold test set\n",
    "        test_data <- trainingSet[splits[[i]],]\n",
    "        train_data <- trainingSet[-splits[[i]],]\n",
    "\n",
    "        # Fit the model to the training set\n",
    "        model <- randomForest(status_group ~ ., method=\"class\",data=train_data)\n",
    "        \n",
    "        # get the importance of the features in predicting the target value\n",
    "        importance = varImp(model)\n",
    "        \n",
    "        # print the importances (only for the first iteration)\n",
    "        if (verbose & i == 1) {\n",
    "            perm <- order(importance$Overall,decreasing=T)\n",
    "            column_name = importance[perm,0]\n",
    "            column_number = importance[perm,1]\n",
    "            ordered_importance <- data.frame(column_name = column_name, column_number=column_number)\n",
    "        }\n",
    "        \n",
    "        # Predict the label of test_data\n",
    "        Y_pred <- predict(model,test_data[,-target_variable])\n",
    "        \n",
    "        # True label\n",
    "        Y <- test_data[,target_variable]\n",
    "        \n",
    "        # Compute confusion matrix\n",
    "        confusion_matrix <- table(Y_pred,Y)\n",
    "\n",
    "        # Compute the classification rate\n",
    "        if ((dim(confusion_matrix)[1]) == 1){\n",
    "            classification_rate[i] = (confusion_matrix[1,1])/length(Y)\n",
    "        } else if((dim(confusion_matrix)[1]) == 2) {\n",
    "            classification_rate[i] = (confusion_matrix[1,1]+confusion_matrix[2,2])/length(Y)\n",
    "        } else {\n",
    "            classification_rate[i] = (confusion_matrix[1,1]+confusion_matrix[2,2]+confusion_matrix[3,3])/length(Y)\n",
    "        }\n",
    "    }\n",
    "    \n",
    "    end_time <- Sys.time()\n",
    "    print(end_time - start_time)\n",
    "    return(list(accuracy=mean(classification_rate),importance=ordered_importance))\n",
    "}"
   ]
  },
  {
   "cell_type": "code",
   "execution_count": 35,
   "metadata": {},
   "outputs": [
    {
     "name": "stdout",
     "output_type": "stream",
     "text": [
      "Time difference of 6.559793 mins\n",
      "\n",
      "Estimated classification rate of the model\n"
     ]
    },
    {
     "data": {
      "text/html": [
       "0.789579124579125"
      ],
      "text/latex": [
       "0.789579124579125"
      ],
      "text/markdown": [
       "0.789579124579125"
      ],
      "text/plain": [
       "[1] 0.7895791"
      ]
     },
     "metadata": {},
     "output_type": "display_data"
    }
   ],
   "source": [
    "if (EXECUTION >= 2) {\n",
    "    results_rf <- random_forest_fold_cross_validation(train,5,verbose=TRUE)\n",
    "    cat(paste(\"\\nEstimated classification rate of the model\\n\"))\n",
    "    results_rf$accuracy\n",
    "}"
   ]
  },
  {
   "cell_type": "code",
   "execution_count": 36,
   "metadata": {},
   "outputs": [
    {
     "name": "stdout",
     "output_type": "stream",
     "text": [
      "Importance of the features"
     ]
    },
    {
     "data": {
      "text/html": [
       "<table class=\"dataframe\">\n",
       "<caption>A data.frame: 8 × 1</caption>\n",
       "<thead>\n",
       "\t<tr><th></th><th scope=col>column_number</th></tr>\n",
       "\t<tr><th></th><th scope=col>&lt;dbl&gt;</th></tr>\n",
       "</thead>\n",
       "<tbody>\n",
       "\t<tr><th scope=row>quantity</th><td>3721.431</td></tr>\n",
       "\t<tr><th scope=row>longitude</th><td>3242.447</td></tr>\n",
       "\t<tr><th scope=row>latitude</th><td>3114.636</td></tr>\n",
       "\t<tr><th scope=row>days_since_2001</th><td>2089.580</td></tr>\n",
       "\t<tr><th scope=row>gps_height</th><td>1978.405</td></tr>\n",
       "\t<tr><th scope=row>extraction_type_group</th><td>1848.405</td></tr>\n",
       "\t<tr><th scope=row>waterpoint_type_group</th><td>1192.139</td></tr>\n",
       "\t<tr><th scope=row>region</th><td>1033.124</td></tr>\n",
       "</tbody>\n",
       "</table>\n"
      ],
      "text/latex": [
       "A data.frame: 8 × 1\n",
       "\\begin{tabular}{r|l}\n",
       "  & column\\_number\\\\\n",
       "  & <dbl>\\\\\n",
       "\\hline\n",
       "\tquantity & 3721.431\\\\\n",
       "\tlongitude & 3242.447\\\\\n",
       "\tlatitude & 3114.636\\\\\n",
       "\tdays\\_since\\_2001 & 2089.580\\\\\n",
       "\tgps\\_height & 1978.405\\\\\n",
       "\textraction\\_type\\_group & 1848.405\\\\\n",
       "\twaterpoint\\_type\\_group & 1192.139\\\\\n",
       "\tregion & 1033.124\\\\\n",
       "\\end{tabular}\n"
      ],
      "text/markdown": [
       "\n",
       "A data.frame: 8 × 1\n",
       "\n",
       "| <!--/--> | column_number &lt;dbl&gt; |\n",
       "|---|---|\n",
       "| quantity | 3721.431 |\n",
       "| longitude | 3242.447 |\n",
       "| latitude | 3114.636 |\n",
       "| days_since_2001 | 2089.580 |\n",
       "| gps_height | 1978.405 |\n",
       "| extraction_type_group | 1848.405 |\n",
       "| waterpoint_type_group | 1192.139 |\n",
       "| region | 1033.124 |\n",
       "\n"
      ],
      "text/plain": [
       "                      column_number\n",
       "quantity              3721.431     \n",
       "longitude             3242.447     \n",
       "latitude              3114.636     \n",
       "days_since_2001       2089.580     \n",
       "gps_height            1978.405     \n",
       "extraction_type_group 1848.405     \n",
       "waterpoint_type_group 1192.139     \n",
       "region                1033.124     "
      ]
     },
     "metadata": {},
     "output_type": "display_data"
    }
   ],
   "source": [
    "if (EXECUTION >= 2) {\n",
    "    cat(paste(\"Importance of the features\"))\n",
    "    results_rf$importance\n",
    "}"
   ]
  },
  {
   "cell_type": "markdown",
   "metadata": {},
   "source": [
    "## Discussion\n",
    "\n",
    ">The tree models accessed in part 2 obtain very different results.\n",
    "\n",
    ">First, the decision tree shows pretty bad results, predicting only 53% of correct target values. This behavior can be explain by the huge dimensionality reduction that has been done in part 1. The tree has not so many variables to work with and struggles in creating a powerful predictor.\n",
    "\n",
    ">Second, the single-hidden-layer neural network works better than the decision tree, having a estimated classification rate up to 60%. The simple structure of the neural network is probably the reason that more precise rules haven't been discovered.\n",
    "\n",
    ">At last, the random forest beats all records with a estimated classification rate equal to 79%. 20% above the neural network.\n",
    "\n",
    ">If we needed to select a model from those three, it would be the random forest."
   ]
  },
  {
   "cell_type": "markdown",
   "metadata": {},
   "source": [
    "# 3) Learning procedure with Gradient Boosting (XGBOOST)\n",
    "\n",
    "> In this chapter we will go back to another model validation procedure, this time acessing the classification rate of Gradient Boosting algorithm. We use the model implementation from the library **xgboost**."
   ]
  },
  {
   "cell_type": "markdown",
   "metadata": {},
   "source": [
    "## One-hot encoding\n",
    "\n",
    ">Because the model xgboost only work on numeric features, we choose to encode the categorical features with one-hot encoding. Only the target value \"status_group\" will be encoded with integer encoding because xgboost doesn't allow multiple target features. We thus have 1 for functional, 2 for functional needs repair, and 3 for non functional."
   ]
  },
  {
   "cell_type": "markdown",
   "metadata": {},
   "source": [
    "## Model validation : 10 fold cross validation\n",
    "\n",
    ">One more time, we choose to estimate our model classification rate by using a 10 fold cross validation method."
   ]
  },
  {
   "cell_type": "code",
   "execution_count": 37,
   "metadata": {},
   "outputs": [],
   "source": [
    "xg_boost_fold_cross_validation <- function(trainingSet,k) {\n",
    "    \n",
    "    # INITIALISATION\n",
    "    \n",
    "    start_time <- Sys.time()\n",
    "    \n",
    "    # removing column id in dataset\n",
    "    trainingSet <- trainingSet[, -which(names(trainingSet) == \"id\")]\n",
    "    \n",
    "    # encode factors into dummy variables (one-hot encoding)\n",
    "    options(warn=-1)\n",
    "    trainingSet <- cbind(trainingSet,dummy(trainingSet$region))\n",
    "    trainingSet <- cbind(trainingSet,dummy(trainingSet$extraction_type_group))\n",
    "    trainingSet <- cbind(trainingSet,dummy(trainingSet$quantity))\n",
    "    trainingSet <- cbind(trainingSet,dummy(trainingSet$waterpoint_type_group))\n",
    "    trainingSet <- trainingSet[,-c(4:8)]\n",
    "    options(warn=0)\n",
    "    \n",
    "    # indexing status_group\n",
    "    target_variable <- ncol(trainingSet)\n",
    "    # vector storing the classification rates\n",
    "    classification_rate <- array(0,k)\n",
    "    # Shuffle trainingSet\n",
    "    train_idx <- sample(1:nrow(trainingSet))\n",
    "    # Split the dataset into k groups\n",
    "    max <- ceiling(nrow(trainingSet)/k)\n",
    "    splits <- split(train_idx, ceiling(seq_along(train_idx)/max))\n",
    "    \n",
    "    # 10 FOLD CROSS VALIDATION\n",
    "    \n",
    "    for (i in 1:k) {\n",
    "        # separate the training set from the fold test set\n",
    "        options(warn=-1)\n",
    "        test_data <- trainingSet[splits[[i]],]\n",
    "        label_test <- as.numeric(test_data$status_group)\n",
    "        test_data <- test_data[, -which(names(test_data) == \"status_group\")]\n",
    "\n",
    "        train_data <- trainingSet[-splits[[i]],]\n",
    "        label_train <- as.numeric(train_data$status_group)\n",
    "        train_data <- train_data[, -which(names(train_data) == \"status_group\")]\n",
    "        options(warn=0)\n",
    "        \n",
    "        # make sure the data set is numeric\n",
    "        test_data <- as.matrix(as.data.frame(lapply(test_data, as.numeric)))\n",
    "        train_data <- as.matrix(as.data.frame(lapply(train_data, as.numeric)))\n",
    "        \n",
    "        # transform the dataset into a xgb.DMatrix for reasons of efficiency\n",
    "        train.DMatrix <- xgb.DMatrix(data = train_data,label = label_train, missing = NA)\n",
    "        \n",
    "        # Fit the model to the training set\n",
    "        model <- xgboost(data = train.DMatrix, objective = \"multi:softmax\", booster = \"gbtree\",\n",
    "                         eval_metric=\"mlogloss\", nrounds=10,num_class = 4,eta = .7,\n",
    "                         max_depth = 14,colsample_bytree =1.,verbose=F)\n",
    "        \n",
    "        # print the importances of the features in predicting the target value (only for the first iteration)\n",
    "        if (i == 1) {\n",
    "            importance <- xgb.importance(feature_names = colnames(train_data), model = model)\n",
    "            xgb.plot.importance(importance_matrix = importance)\n",
    "        }\n",
    "        \n",
    "        # Predict the label of test_data\n",
    "        Y_pred <- predict(model,test_data)\n",
    "        Y_pred[Y_pred==1] <- \"functional\"\n",
    "        Y_pred[Y_pred==2] <- \"functional needs repair\"\n",
    "        Y_pred[Y_pred==3] <- \"non functional\"\n",
    "        \n",
    "        # True label\n",
    "        label_test[label_test==1] <- \"functional\"\n",
    "        label_test[label_test==2] <- \"functional needs repair\"\n",
    "        label_test[label_test==3] <- \"non functional\"\n",
    "        \n",
    "        # Compute confusion matrix\n",
    "        confusion_matrix <- table(Y_pred,label_test)\n",
    "        \n",
    "        # Compute the classification rate\n",
    "        classification_rate[i] = (confusion_matrix[1,1]+\n",
    "                                  confusion_matrix[2,2]+confusion_matrix[3,3])/length(label_test)\n",
    "    }\n",
    "\n",
    "    end_time <- Sys.time()\n",
    "    print(end_time - start_time)\n",
    "    \n",
    "    return(mean(classification_rate))\n",
    "}"
   ]
  },
  {
   "cell_type": "code",
   "execution_count": 38,
   "metadata": {},
   "outputs": [
    {
     "name": "stdout",
     "output_type": "stream",
     "text": [
      "Time difference of 41.9445 secs\n",
      "\n",
      "Estimated classification rate of the model\n"
     ]
    },
    {
     "data": {
      "text/html": [
       "0.780589225589226"
      ],
      "text/latex": [
       "0.780589225589226"
      ],
      "text/markdown": [
       "0.780589225589226"
      ],
      "text/plain": [
       "[1] 0.7805892"
      ]
     },
     "metadata": {},
     "output_type": "display_data"
    },
    {
     "data": {
      "image/png": "[encoded data removed]",
      "text/plain": [
       "plot without title"
      ]
     },
     "metadata": {
      "image/png": {
       "height": 420,
       "width": 420
      }
     },
     "output_type": "display_data"
    }
   ],
   "source": [
    "if (EXECUTION >= 2) {\n",
    "    accuracy_xgb <- xg_boost_fold_cross_validation(train,10)\n",
    "    cat(paste(\"\\nEstimated classification rate of the model\\n\"))\n",
    "    accuracy_xgb\n",
    "}"
   ]
  },
  {
   "cell_type": "markdown",
   "metadata": {},
   "source": [
    "> We are satisfied with this accuracy. We can thus launch the learning process."
   ]
  },
  {
   "cell_type": "markdown",
   "metadata": {},
   "source": [
    "## Learning phase\n",
    "\n",
    ">Now we can run the model on the entire training set and apply this model to the test set to predict the missing labels."
   ]
  },
  {
   "cell_type": "code",
   "execution_count": 39,
   "metadata": {},
   "outputs": [],
   "source": [
    "learning_xg_boost <- function(dataSet,lenTrain,train_labels) {\n",
    "    start_time <- Sys.time()\n",
    "    \n",
    "    # store the id column of the dataset\n",
    "    id_column <- dataSet$id\n",
    "    # remove the id column\n",
    "    dataSet <- dataSet[, -which(names(dataSet) == \"id\")]\n",
    "    \n",
    "    # encode the dataset using one-hot encoding\n",
    "    options(warn=-1)\n",
    "    dataSet <- cbind(dataSet,dummy(dataSet$region))\n",
    "    dataSet <- cbind(dataSet,dummy(dataSet$extraction_type_group))\n",
    "    dataSet <- cbind(dataSet,dummy(dataSet$quantity))\n",
    "    dataSet <- cbind(dataSet,dummy(dataSet$waterpoint_type_group))\n",
    "    dataSet <- dataSet[,-c(4:8)]\n",
    "    options(warn=0)\n",
    "    \n",
    "    # split the dataset into training and test set (actual ones this time)\n",
    "    train_set <- dataSet[1:lenTrain,]\n",
    "    test_set  <- dataSet[(lenTrain+1):nrow(dataSet),]\n",
    "    \n",
    "    # encode target value using integer encoding\n",
    "    label <- as.numeric(train_labels$status_group)\n",
    "    \n",
    "    # making sure the datasets are numeric\n",
    "    train_set <- as.matrix(as.data.frame(lapply(train_set, as.numeric)))\n",
    "    test_set <- as.matrix(as.data.frame(lapply(test_set, as.numeric)))\n",
    "    \n",
    "    # transforming training data into xgb.DMatrix\n",
    "    train.DMatrix <- xgb.DMatrix(data = train_set,label = label, missing = NA)\n",
    "    \n",
    "    # learning time for the xgboost model\n",
    "    model <- xgboost(data = train.DMatrix, objective = \"multi:softmax\", booster = \"gbtree\",eval_metric=\"mlogloss\",\n",
    "                     nrounds=10,num_class = 4,eta = .7,max_depth = 14,colsample_bytree =1.,verbose=F)\n",
    "\n",
    "    # predict the labels of the testset\n",
    "    Y_pred <- predict(model,test_set)\n",
    "    Y_pred[Y_pred==1] <- \"functional\"\n",
    "    Y_pred[Y_pred==2] <- \"functional needs repair\"\n",
    "    Y_pred[Y_pred==3] <- \"non functional\"\n",
    "    \n",
    "    # associate each prediction with its id\n",
    "    result <- data.frame(id=id_column[(lenTrain+1):nrow(dataSet)],status_group=Y_pred)\n",
    "    \n",
    "    cat(paste(\"Time spent : \",Sys.time() - start_time))\n",
    "\n",
    "    return(result)\n",
    "}"
   ]
  },
  {
   "cell_type": "code",
   "execution_count": 40,
   "metadata": {},
   "outputs": [
    {
     "name": "stdout",
     "output_type": "stream",
     "text": [
      "Time spent :  4.7666654586792"
     ]
    }
   ],
   "source": [
    "result <- learning_xg_boost(dataSet,nrow(train),trainLabels)"
   ]
  },
  {
   "cell_type": "code",
   "execution_count": 40,
   "metadata": {},
   "outputs": [],
   "source": [
    "write.csv(result,\"../submissions/submisssion_9_vars_XGBOOST_whole_train.csv\",quote=FALSE,row.names=FALSE)"
   ]
  },
  {
   "cell_type": "markdown",
   "metadata": {},
   "source": [
    "# Submission to Driven Data\n",
    "\n",
    "> We submited the csv file to the competition and obtained a classification rate of 78.49%\n",
    "\n",
    "> The submission files are located in the folder submissions. There are four different submissions. The first ones are using Random Forest, there were used to check if our submission method was working."
   ]
  }
 ],
 "metadata": {
  "kernelspec": {
   "display_name": "R",
   "language": "R",
   "name": "ir"
  },
  "language_info": {
   "codemirror_mode": "r",
   "file_extension": ".r",
   "mimetype": "text/x-r-source",
   "name": "R",
   "pygments_lexer": "r",
   "version": "3.6.3"
  }
 },
 "nbformat": 4,
 "nbformat_minor": 4
}
